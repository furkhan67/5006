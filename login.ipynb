{
  "nbformat": 4,
  "nbformat_minor": 0,
  "metadata": {
    "colab": {
      "provenance": [],
      "authorship_tag": "ABX9TyNfl7Cf0VNDQ7cR6zamCbOL",
      "include_colab_link": true
    },
    "kernelspec": {
      "name": "python3",
      "display_name": "Python 3"
    },
    "language_info": {
      "name": "python"
    }
  },
  "cells": [
    {
      "cell_type": "markdown",
      "metadata": {
        "id": "view-in-github",
        "colab_type": "text"
      },
      "source": [
        "<a href=\"https://colab.research.google.com/github/furkhan67/5006/blob/main/login.ipynb\" target=\"_parent\"><img src=\"https://colab.research.google.com/assets/colab-badge.svg\" alt=\"Open In Colab\"/></a>"
      ]
    },
    {
      "cell_type": "code",
      "execution_count": null,
      "metadata": {
        "id": "l5HM6nd56_OY"
      },
      "outputs": [],
      "source": [
        "client_id = 'bb7a9aca-54c5-4f02-aca5-c98ef6a10e22'\n",
        "client_secret = ''\n",
        "ruri = 'http://127.0.0.1:8080/callback'\n",
        "code = ''"
      ]
    },
    {
      "cell_type": "code",
      "source": [
        "url = f\"https://api.upstox.com/v2/login/authorization/dialog?response_type=code&client_id={client_id}&redirect_uri={ruri}\""
      ],
      "metadata": {
        "id": "pKT4a0Wl7bhW"
      },
      "execution_count": null,
      "outputs": []
    },
    {
      "cell_type": "code",
      "source": [
        "import requests\n",
        "\n",
        "url = 'https://api.upstox.com/v2/login/authorization/token'\n",
        "headers = {\n",
        "    'accept': 'application/json',\n",
        "    'Content-Type': 'application/x-www-form-urlencoded',\n",
        "}\n",
        "\n",
        "data = {\n",
        "    'code': code,\n",
        "    'client_id': client_id,\n",
        "    'client_secret': client_secret,\n",
        "    'redirect_uri': ruri,\n",
        "    'grant_type': 'authorization_code',\n",
        "}\n",
        "\n",
        "response = requests.post(url, headers=headers, data=data)\n",
        "\n",
        "print(response.status_code)\n",
        "print(response.json())"
      ],
      "metadata": {
        "id": "8JQJXMUR7_2r"
      },
      "execution_count": null,
      "outputs": []
    }
  ]
}